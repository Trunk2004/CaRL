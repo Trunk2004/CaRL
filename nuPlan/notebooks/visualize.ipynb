{
 "cells": [
  {
   "cell_type": "code",
   "execution_count": null,
   "metadata": {},
   "outputs": [],
   "source": [
    "from nuplan.planning.utils.multithreading.worker_ray import RayDistributed\n",
    "\n",
    "# from nuplan.planning.utils.multithreading.worker_sequential import Sequential\n",
    "from carl_nuplan.planning.simulation.main_callback.visualization_main_callback import VisualizationMainCallback"
   ]
  },
  {
   "cell_type": "code",
   "execution_count": null,
   "metadata": {},
   "outputs": [],
   "source": [
    "scenario_tokens_to_visualize = [\n",
    "    \"1c06e56cf14a5066\",\n",
    "    \"7842f544a27154be\",\n",
    "    \"9ba4073c7ea05712\",\n",
    "    \"8b6c460edc7e569b\",\n",
    "    \"3dfcf6c1de425df5\",\n",
    "    \"3c6ac27e868a5039\",\n",
    "    \"6cc82f29edba5e42\",\n",
    "    \"42eabc4389605381\",\n",
    "    \"82d44a9b699e5a87\",\n",
    "]  # A few example scenarios from Val14.\n",
    "\n",
    "# output_dir = \"path/to/output/dir\"  # Replace with output directory path of simulation, i.e. .../simulation/closed_loop_nonreactive_agents_action/2025.XX.XX.XX.XX.XX\n",
    "output_dir = (\n",
    "    \"/home/daniel/carl/exp/nuplan_51479_1B/simulation/closed_loop_nonreactive_agents_action/2025.07.13.21.45.47\"\n",
    ")\n",
    "\n",
    "worker = RayDistributed()  # Optionally use Sequential()\n",
    "\n",
    "VisualizationMainCallback(\n",
    "    output_dir=output_dir, scenario_tokens=scenario_tokens_to_visualize, worker=RayDistributed()\n",
    ").on_run_simulation_end()\n",
    "\n",
    "# NOTE: You can find the videos in output_dir/visualization"
   ]
  }
 ],
 "metadata": {
  "kernelspec": {
   "display_name": "carl_nuplan",
   "language": "python",
   "name": "python3"
  },
  "language_info": {
   "codemirror_mode": {
    "name": "ipython",
    "version": 3
   },
   "file_extension": ".py",
   "mimetype": "text/x-python",
   "name": "python",
   "nbconvert_exporter": "python",
   "pygments_lexer": "ipython3",
   "version": "3.9.23"
  }
 },
 "nbformat": 4,
 "nbformat_minor": 2
}
