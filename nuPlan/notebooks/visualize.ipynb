{
 "cells": [
  {
   "cell_type": "code",
   "execution_count": null,
   "metadata": {},
   "outputs": [],
   "source": [
    "import os\n",
    "from pathlib import Path\n",
    "import pandas as pd\n",
    "\n",
    "import numpy as np\n",
    "\n",
    "\n",
    "from nuplan.planning.utils.multithreading.worker_ray import RayDistributed\n",
    "from carl_nuplan.planning.simulation.main_callback.visualization_main_callback import VisualizationMainCallback"
   ]
  },
  {
   "cell_type": "code",
   "execution_count": null,
   "metadata": {},
   "outputs": [],
   "source": [
    "\n",
    "visualize_scenarios = [\n",
    "    \"6e4234134bad5f11\",\n",
    "    \"dc3be40d19af525a\",\n",
    "    \"76c046586ec65d90\",\n",
    "    \"8b6c460edc7e569b\",\n",
    "    \"ced3856a5bee5575\",\n",
    "    \"3c6ac27e868a5039\",\n",
    "    \"6cc82f29edba5e42\",\n",
    "    \"42eabc4389605381\",\n",
    "    \"82d44a9b699e5a87\",\n",
    "    \"3b21090dafc054b9\",\n",
    "    \"6c9d5706ae415e2a\",\n",
    "    \"d9af410284a9558a\",\n",
    "    \"224a49a1ad4d5ed3\",\n",
    "    \"90fba04924295a4f\",\n",
    "    \"6bf2ff95192d5cfb\",\n",
    "    \"df14e7a74f035385\",\n",
    "    \"436936e49747508c\",\n",
    "    \"cedc9219a6ca5024\",\n",
    "    \"20dd31cd90325acc\",\n",
    "    \"be122bb68faf5101\",\n",
    "    \"b9aa20bc06315153\",\n",
    "]\n",
    "visualize_scenarios"
   ]
  },
  {
   "cell_type": "code",
   "execution_count": null,
   "metadata": {},
   "outputs": [],
   "source": [
    "# Get the value of an environment variable\n",
    "NUPLAN_DEVKIT_ROOT = os.getenv(\"NUPLAN_DEVKIT_ROOT\")\n",
    "\n",
    "worker = RayDistributed()"
   ]
  },
  {
   "cell_type": "code",
   "execution_count": null,
   "metadata": {},
   "outputs": [],
   "source": [
    "output_dir = \"path/to/output/dir\"  # Replace with your desired output directory\n",
    "\n",
    "VisualizationMainCallback(output_dir=output_dir, scenario_tokens=visualize_scenarios, worker=worker).on_run_simulation_end()"
   ]
  },
  {
   "cell_type": "code",
   "execution_count": null,
   "metadata": {},
   "outputs": [],
   "source": []
  }
 ],
 "metadata": {
  "kernelspec": {
   "display_name": "nuplan",
   "language": "python",
   "name": "python3"
  },
  "language_info": {
   "codemirror_mode": {
    "name": "ipython",
    "version": 3
   },
   "file_extension": ".py",
   "mimetype": "text/x-python",
   "name": "python",
   "nbconvert_exporter": "python",
   "pygments_lexer": "ipython3",
   "version": "3.9.18"
  }
 },
 "nbformat": 4,
 "nbformat_minor": 2
}
